{
 "cells": [
  {
   "cell_type": "code",
   "execution_count": 184,
   "metadata": {},
   "outputs": [],
   "source": [
    "from collections import Counter\n",
    "from itertools import repeat\n",
    "import json\n",
    "import pickle\n",
    "import warnings\n",
    "\n",
    "\n",
    "from hyperopt import fmin, hp, tpe, STATUS_OK, Trials\n",
    "import pandas as pd\n",
    "import numpy as np\n",
    "import random\n",
    "\n",
    "np.random.seed(42)\n",
    "random.seed(42)\n",
    "\n",
    "warnings.filterwarnings('ignore')"
   ]
  },
  {
   "cell_type": "code",
   "execution_count": 185,
   "metadata": {},
   "outputs": [],
   "source": [
    "# x_dynamic = pd.read_csv(\"./processed_data/dynamic_feats.csv\")\n",
    "game_logs = pd.read_csv(\"./processed_data/processed_game_logs.csv\")\n",
    "mn_twins_mask = game_logs[\"HomeTeam\"]==\"MIN\"\n",
    "season_mask = game_logs[\"year\"]==2022\n",
    "prev_yr_games = game_logs[season_mask].reset_index(drop=True)"
   ]
  },
  {
   "attachments": {},
   "cell_type": "markdown",
   "metadata": {},
   "source": [
    "## RULES\n",
    "- The 81 home games must be scheduled on dates between April 1, 2023 and September 30, 2023.\n",
    "- A maximum of 41 weekend game dates (Fri, Sat, or Sun) are allowed.\n",
    "- The optimal schedule must include the same quantity of games against the opponents listed on the current 2023 MN Twins’ home game schedule. You may re-allocate these opponents across the season as you see fit.\n",
    "- To minimize travel for the teams, each MN Twins opponent must be scheduled for a minimum of two consecutive games before a new opponent can be played."
   ]
  },
  {
   "cell_type": "code",
   "execution_count": 186,
   "metadata": {},
   "outputs": [],
   "source": [
    "# Teams coming to MN\n",
    "## Current Schedule\n",
    "visitor_sequence = \"HOU\"*3+\"CHA\"*3+\"WAS\"*3+\"NYA\"*3+\"KCA\"*4+\"SDN\"*3+\"CHN\"*3+\"SFN\"*3+\"TOR\"*3+\"CLE\"*4+\"MIL\"*4+\"DET\"*4+\"BOS\"*4+\"KCA\"*3+\"BAL\"*3+\\\n",
    "                \"CHA\"*3+\"SEA\"*3+\"ARI\"*3+\"DET\"*2+\"PIT\"*3+\"TEX\"*4+\"CLE\"*3+\"NYN\"*2+\"TBA\"*3+\"ANA\"*3+\"OAK\"*3\n",
    "\n",
    "visitor_sequence = [visitor_sequence[i:i+3] for i in range(0, len(visitor_sequence), 3)]\n",
    "visitor_counts = Counter(visitor_sequence)\n",
    "\n",
    "visitor_sets = {}\n",
    "for team, num_matches in visitor_counts.items():\n",
    "    if num_matches in [2,3]:\n",
    "        # Only one set of possibilities\n",
    "        visitor_sets[team] = [list(repeat(team, num_matches))]\n",
    "    elif num_matches ==4:\n",
    "        # series of 2-2 or 4\n",
    "        visitor_sets[team] = [[list(repeat(team, 4))], \n",
    "                              [list(repeat(team, 2)), list(repeat(team, 2))]]\n",
    "    elif num_matches ==6:\n",
    "        # series of 6, 4-2 or 2-2-2\n",
    "        visitor_sets[team] = [[list(repeat(team, 6))],\n",
    "                              [list(repeat(team, 4)), list(repeat(team, 2))],\n",
    "                              [list(repeat(team, 3)), list(repeat(team, 3))],\n",
    "                              [list(repeat(team, 2)), list(repeat(team, 2)), list(repeat(team, 2))]]\n",
    "    elif num_matches ==7:\n",
    "        # series of 7, 4-3 or 2-2-3\n",
    "        visitor_sets[team] = [[list(repeat(team, 7))],\n",
    "                              [list(repeat(team, 4)), list(repeat(team, 3))],\n",
    "                              [list(repeat(team, 3)), list(repeat(team, 2)), list(repeat(team, 2))]]\n",
    "        # Recursive logic\n",
    "        # remaining_matches = num_matches\n",
    "        # visitor_sets[team] = []\n",
    "        # while remaining_matches>3:\n",
    "        #     remaining_matches = num_matches-3\n",
    "        #     visitor_sets[team].append(list(repeat(team, remaining_matches)))"
   ]
  },
  {
   "cell_type": "code",
   "execution_count": 187,
   "metadata": {},
   "outputs": [],
   "source": [
    "NUM_WEEKEND_GAMEDAYS = 41\n",
    "NUM_GAMES = len(visitor_sequence)\n",
    "NUM_SIMULATIONS = 10000\n",
    "MAX_TRIALS = 100"
   ]
  },
  {
   "cell_type": "code",
   "execution_count": 188,
   "metadata": {},
   "outputs": [],
   "source": [
    "# Generating date range\n",
    "date_space = pd.to_datetime(pd.date_range(start=\"2023-04-01\", end=\"2023-09-30\"))\n",
    "date_df = pd.DataFrame(index=range(len(date_space)))\n",
    "date_df[\"year\"] = date_space.year\n",
    "date_df[\"DayofMonth\"] = date_space.day\n",
    "date_df[\"Month\"] = date_space.month\n",
    "date_df[\"DayofWeek\"] = date_space.day_of_week\n",
    "\n",
    "# selecting weekend dates\n",
    "weekend_mask = date_df[\"DayofWeek\"].isin([4,5,6])"
   ]
  },
  {
   "cell_type": "code",
   "execution_count": 189,
   "metadata": {},
   "outputs": [],
   "source": [
    "param_space = {}\n",
    "DAYFLAG_SAMPLES = [np.random.randint(size=82, low=0, high=2) for i in range(NUM_SIMULATIONS)]\n",
    "param_space[\"DayFlag\"] = list(range(NUM_SIMULATIONS))\n",
    "\n",
    "WEEKEND_SAMPLES = [date_df[weekend_mask].sample(NUM_WEEKEND_GAMEDAYS) for i in range(NUM_SIMULATIONS)]\n",
    "param_space[\"weekend_sample\"] = list(range(NUM_SIMULATIONS))\n",
    "\n",
    "WEEKDAY_SAMPLES = [date_df[~weekend_mask].sample(NUM_GAMES-NUM_WEEKEND_GAMEDAYS) for i in range(NUM_SIMULATIONS)]\n",
    "param_space[\"weekday_sample\"] = list(range(NUM_SIMULATIONS))\n",
    "\n",
    "VISTING_TEAM_SAMPLES = []\n",
    "unique_team_combos = sum([len(x) for x in visitor_sets.values()])\n",
    "for idx in range(unique_team_combos):\n",
    "    team_schedule = []\n",
    "    for k,v in visitor_sets.items():\n",
    "        if len(v)>1:\n",
    "            choice_idx = np.random.randint(low=0, high=len(v))\n",
    "            team_schedule+=v[choice_idx]\n",
    "        else:\n",
    "            team_schedule+=v\n",
    "    VISTING_TEAM_SAMPLES.append(np.array([i for team_set in team_schedule for i in team_set]))\n",
    "\n",
    "param_space[\"visiting_team\"] = list(range(unique_team_combos))"
   ]
  },
  {
   "cell_type": "code",
   "execution_count": 190,
   "metadata": {},
   "outputs": [],
   "source": [
    "with open(\"./model/lgb_static_model.pkl\",\"rb\") as f:\n",
    "    static_model = pickle.load(f)"
   ]
  },
  {
   "cell_type": "code",
   "execution_count": 191,
   "metadata": {},
   "outputs": [],
   "source": [
    "ranking_info_cols = [\"total_wins\",\"day_league_rank\",\"win_rate\"]\n",
    "\n",
    "group_cols = [\"HomeTeam\",\"VisitingTeam\"]\n",
    "\n",
    "other_league_cols = ['nba_season_flag',\n",
    "       'nhl_season_flag']\n",
    "\n",
    "common_features = [ \"HomeTeamGameNumber\",\n",
    "                    \"VisitingTeamGameNumber\",\n",
    "                    # Calender features\n",
    "                    \"year\",\n",
    "                    \"DayofWeek\",\n",
    "                    \"Month\",\n",
    "                    \"DayofMonth\",\n",
    "                    \"DayFlag\",\n",
    "                    # Stadium Features\n",
    "                    \"park_age\",\n",
    "                    \"NonRegular_ParkFlag\",\n",
    "                    \"StadiumCapacity\"]+\\\n",
    "                    [\"home_payroll\", \"visiting_payroll\",\"home_top_salary\", \"visiting_top_salary\"] +\\\n",
    "                    [ # Miscellaneous time based cols\n",
    "                    \"same_opp\", \"days_since_last_match\",\"first_home_game\", 'league_rival_col'] +\\\n",
    "                    other_league_cols #'covid_effect']\n",
    "\n",
    "prev_season_features = [\"HomeAttendance_last_year\",\n",
    "                        \"VisitingAttendance_last_year\",\n",
    "                        \"Attendance_last_year\",\n",
    "                        \"Homewin_rate_last_year\",\n",
    "                        \"Homeday_league_rank_last_year\",\n",
    "                        \"HomeTeamOffense_Homeruns_last_year\",\n",
    "                        \"HomeTeamOffense_Strickouts_last_year\",\n",
    "                        \"HomeTeamPitchers_TeamEarnedRuns_last_year\",\n",
    "                        \"Visitingwin_rate_last_year\",\n",
    "                        \"Visitingday_league_rank_last_year\",\n",
    "                        \"VisitingTeamOffense_Homeruns_last_year\",\n",
    "                        \"VisitingTeamOffense_Strickouts_last_year\",\n",
    "                        \"VisitingTeamPitchers_TeamEarnedRuns_last_year\",\n",
    "                        \"HomeTeamScore_last_year\",\n",
    "                        \"VistingTeamScore_last_year\"]"
   ]
  },
  {
   "cell_type": "code",
   "execution_count": 192,
   "metadata": {},
   "outputs": [],
   "source": [
    "def create_season_date_index(start, end, league_name):\n",
    "    season_date_index = [day\n",
    "        for year in range(2000,2023)\n",
    "        for day in pd.date_range(\n",
    "            start=start+str(year), end=end+str(year+1), freq=\"D\")]\n",
    "    league_ind_df = pd.DataFrame(index=pd.to_datetime(season_date_index))\n",
    "    league_ind_df[league_name+\"_season_flag\"] = 1\n",
    "    return league_ind_df\n",
    "\n",
    "\n",
    "def edit_col_name(col_list=ranking_info_cols,\n",
    "                  prefix=None,\n",
    "                  suffix=None):\n",
    "    if suffix:\n",
    "        col_list = {x: x+suffix for x in col_list}\n",
    "    if prefix:\n",
    "        col_list = {x: prefix+x for x in col_list}\n",
    "    return col_list\n",
    "\n",
    "# Creating 2023 season features\n",
    "def add_feats(df, prev_yr_df):\n",
    "    df[\"league_rival_col\"] = (df[\"VisitingTeamLeague\"]==df[\"HomeTeamLeague\"]).astype(int)\n",
    "    df[\"same_opp\"] = (df[\"VisitingTeam\"] == df.groupby([\"HomeTeam\",\"year\"])[\"VisitingTeam\"].shift(1))\n",
    "    df[\"same_opp\"] = df.groupby([\"HomeTeam\",\"year\",\"VisitingTeam\"])[\"same_opp\"].cumsum()\n",
    "\n",
    "    df[\"days_since_last_match\"] = (df.groupby([\"HomeTeam\",\"year\"])[\"Date\"].shift(1) - df[\"Date\"]).dt.days.fillna(0)\n",
    "\n",
    "    df[\"first_home_game\"] = (df[\"Date\"]==df.groupby([\"HomeTeam\",\"year\"])[\"Date\"].transform(\"first\")).astype(int)\n",
    "\n",
    "    nba_ind_df = create_season_date_index(start=\"15-10-\", end=\"15-06-\", league_name=\"nba\")\n",
    "    nhl_ind_df = create_season_date_index(start=\"15-10-\", end=\"30-06-\", league_name=\"nhl\")\n",
    "    nfl_ind_df = create_season_date_index(start=\"10-09-\", end=\"15-02-\", league_name=\"nfl\")\n",
    "\n",
    "    other_league_cols = []\n",
    "    for league_df in [nba_ind_df,\n",
    "                    nhl_ind_df,\n",
    "                    nfl_ind_df]:\n",
    "        df = df.merge(league_df, left_on=\"Date\", right_index=True, how=\"left\")\n",
    "        league_col = league_df.columns[0]\n",
    "        other_league_cols.append(league_col)\n",
    "        df[league_col] = df[league_col].fillna(0)\n",
    "\n",
    "    alt_sports = pd.read_csv(\"./processed_data/other_leagues.csv\")\n",
    "\n",
    "    with open(\"./processed_data/code_city_map.json\", \"r\") as f:\n",
    "        city_code_map = json.load(f)\n",
    "\n",
    "    df[\"City\"] = df[\"HomeTeam\"].map(city_code_map)\n",
    "\n",
    "    df = (df.merge(alt_sports,\n",
    "                on=\"City\",\n",
    "                how=\"left\"))\n",
    "\n",
    "    alt_sports_cols = [\"NBA\",\"NHL\",\"NFL\"]\n",
    "    for league, ind_col in zip(alt_sports_cols, other_league_cols):\n",
    "        df[ind_col] = df[league].astype(int)*df[ind_col]\n",
    "\n",
    "    df.drop(columns=alt_sports, inplace=True)\n",
    "\n",
    "    for group_col in [\"Home\",\"Visiting\"]:\n",
    "        agg_dict = {\"Attendance\": \"mean\",\n",
    "                    group_col+\"win_rate\": \"last\",\n",
    "                    group_col+\"day_league_rank\": \"last\",\n",
    "                    group_col+\"TeamOffense_Homeruns\": sum,\n",
    "                    group_col+\"TeamOffense_Strickouts\": sum,\n",
    "                    group_col+\"TeamPitchers_TeamEarnedRuns\": sum}\n",
    "\n",
    "        # Aggregating season stats and shifting for lag effect\n",
    "        lagged_df = pd.DataFrame(columns=[group_col+\"Team\", \"year\"], index=prev_yr_df.index)\n",
    "        lagged_df[[group_col+\"Team\",\"year\"]] = prev_yr_df[[group_col+\"Team\",\"year\"]]\n",
    "        stat_cols = list(agg_dict.keys())\n",
    "        lagged_df[stat_cols] = prev_yr_df.groupby([group_col+\"Team\",\"year\"], as_index=False)[stat_cols].shift(0)\n",
    "        lagged_df = lagged_df.groupby([group_col+\"Team\",\"year\"], as_index=False).agg(agg_dict)\n",
    "        \n",
    "        col_rename_map = edit_col_name(stat_cols, suffix=\"_last_year\")\n",
    "        col_rename_map[\"Attendance\"] = group_col+\"Attendance_last_year\"\n",
    "        lagged_df.rename(columns=col_rename_map, inplace=True)\n",
    "        lagged_df = lagged_df.drop_duplicates(subset=[group_col+\"Team\"])\n",
    "\n",
    "        # merge the last year\"s average attendance into the original dataframe\n",
    "        df = pd.merge(df,\n",
    "                    lagged_df.drop(columns=\"year\"),\n",
    "                    how=\"left\",\n",
    "                    on=[group_col+\"Team\"])\n",
    "\n",
    "    # Lagged and Aggregated featres for Home and Visiting Team\n",
    "    agg_dict = {\"Attendance\": \"mean\",\n",
    "                \"HomeTeamScore\": sum,\n",
    "                \"VistingTeamScore\": sum}\n",
    "\n",
    "    # Aggregating season stats and shifting for lag effect\n",
    "    lagged_df = prev_yr_df.groupby(group_cols+[\"year\"], as_index=False).agg(agg_dict)#.shift(1).fillna(0)\n",
    "    lagged_df.rename(columns=edit_col_name(col_list=list(agg_dict.keys()), suffix=\"_last_year\"),\n",
    "                    inplace=True)\n",
    "    lagged_df = lagged_df.drop_duplicates(subset=[\"HomeTeam\",\"VisitingTeam\"])\n",
    "    # merge the last years average attendance into the original dataframe\n",
    "    \n",
    "    df = pd.merge(df, lagged_df.drop(columns=\"year\"),\n",
    "                how=\"left\",\n",
    "                on=group_cols,\n",
    "                suffixes=(\"\", \"_last_year\"))\n",
    "    return df"
   ]
  },
  {
   "cell_type": "code",
   "execution_count": 193,
   "metadata": {},
   "outputs": [],
   "source": [
    "\n",
    "def run_sim(params):\n",
    "    test_df = pd.concat([WEEKEND_SAMPLES[params[\"weekend_sample\"]],\n",
    "                         WEEKDAY_SAMPLES[params[\"weekday_sample\"]]], ignore_index=True\n",
    "                        ).sort_values([\"Month\",\"DayofMonth\"]).reset_index(drop=True)\n",
    "\n",
    "    test_df[\"VisitingTeamGameNumber\"] = prev_yr_games[\"VisitingTeamGameNumber\"]\n",
    "    test_df[\"HomeTeamGameNumber\"] = prev_yr_games[\"HomeTeamGameNumber\"]\n",
    "    test_df[[\"HomeTeamGameNumber\",\"VisitingTeamGameNumber\"]] = test_df[[\"HomeTeamGameNumber\",\"VisitingTeamGameNumber\"]].ffill()\n",
    "\n",
    "    test_df[\"VisitingTeam\"] = VISTING_TEAM_SAMPLES[params[\"visiting_team\"]]\n",
    "\n",
    "    test_df[\"HomeTeam\"] = \"MIN\"\n",
    "    merge_cols = [\"park_age\", \"NonRegular_ParkFlag\", \"StadiumCapacity\"]+\\\n",
    "                [\"VisitingTeamLeague\",\"HomeTeamLeague\"] +\\\n",
    "                [\"home_payroll\", \"visiting_payroll\",\"home_top_salary\", \"visiting_top_salary\"]\n",
    "    match_cols = [\"HomeTeam\",\"VisitingTeam\"]\n",
    "\n",
    "    test_df = test_df.merge(prev_yr_games[merge_cols+match_cols], on=match_cols, how=\"left\")\n",
    "\n",
    "    # Stadium age increased by 1\n",
    "    test_df[\"park_age\"] = test_df[\"park_age\"]+1\n",
    "\n",
    "    test_df[\"Date\"] = pd.to_datetime(\n",
    "        test_df[\"year\"].astype(str)+\"-\"+test_df[\"Month\"].astype(str)+\"-\"+test_df[\"DayofMonth\"].astype(str))\n",
    "\n",
    "    test_df = test_df.drop_duplicates([\"Date\"])\n",
    "\n",
    "    test_df = add_feats(test_df.copy(), prev_yr_games).reset_index(drop=True)\n",
    "\n",
    "    test_df[\"DayFlag\"] = [np.random.choice([0,1]) for i in range(len(test_df))]\n",
    "\n",
    "    pred_attendance = static_model.predict(test_df[common_features+prev_season_features])\n",
    "    pred_attendance[pred_attendance>test_df[\"StadiumCapacity\"]] = test_df[\"StadiumCapacity\"].values[0]\n",
    "    return {\"loss\": -1*pred_attendance.sum(),\n",
    "                \"status\": STATUS_OK,\n",
    "                \"predictions\": pred_attendance,\n",
    "                \"params\": params}"
   ]
  },
  {
   "cell_type": "code",
   "execution_count": 195,
   "metadata": {},
   "outputs": [
    {
     "name": "stdout",
     "output_type": "stream",
     "text": [
      "100%|██████████| 1000/1000 [30:56<00:00,  1.86s/trial, best loss: -2761157.7584386994]\n"
     ]
    }
   ],
   "source": [
    "param_grid = {}\n",
    "for param, space in param_space.items():\n",
    "        param_grid[param] = hp.choice(param, space)\n",
    "\n",
    "trials = Trials()\n",
    "best_params = fmin(fn=run_sim,\n",
    "        space=param_grid,\n",
    "        max_evals=1000,\n",
    "        algo=tpe.suggest,\n",
    "        verbose=True,\n",
    "        trials=trials)"
   ]
  },
  {
   "cell_type": "code",
   "execution_count": 196,
   "metadata": {},
   "outputs": [
    {
     "data": {
      "text/plain": [
       "0.31657019845348766"
      ]
     },
     "execution_count": 196,
     "metadata": {},
     "output_type": "execute_result"
    }
   ],
   "source": [
    "last_year_attendance = prev_yr_games.loc[mn_twins_mask,\"Attendance\"].sum()\n",
    "(-1*min(trials.losses())-last_year_attendance)/last_year_attendance"
   ]
  },
  {
   "cell_type": "code",
   "execution_count": 197,
   "metadata": {},
   "outputs": [],
   "source": [
    "# get next season schedule\n",
    "# best_params = trials.best_trial[\"result\"][\"params\"]\n",
    "season_schedule = pd.concat([WEEKEND_SAMPLES[best_params[\"weekend_sample\"]],\n",
    "                         WEEKDAY_SAMPLES[best_params[\"weekday_sample\"]]], ignore_index=True\n",
    "                        ).sort_values([\"Month\",\"DayofMonth\"]).reset_index(drop=True)\n",
    "season_schedule[\"VisitingTeam\"] = VISTING_TEAM_SAMPLES[best_params[\"visiting_team\"]]\n",
    "season_schedule[\"DayFlag\"] = [np.random.choice([0,1]) for i in range(len(season_schedule))]"
   ]
  },
  {
   "cell_type": "code",
   "execution_count": 216,
   "metadata": {},
   "outputs": [
    {
     "data": {
      "text/plain": [
       "0.532258064516129"
      ]
     },
     "execution_count": 216,
     "metadata": {},
     "output_type": "execute_result"
    }
   ],
   "source": [
    "(season_schedule[season_schedule[\"VisitingTeam\"].isin([\"NYA\",\"SDN\",\"CHA\",\"TEX\",\"BOS\",\"LAN\"])][\"DayofWeek\"].isin([4,5,6])).mean(), (season_schedule[\"DayofWeek\"].isin([4,5,6])).mean()\n",
    "(season_schedule[~season_schedule[\"VisitingTeam\"].isin([\"NYA\",\"SDN\",\"CHA\",\"TEX\",\"BOS\",\"LAN\"])][\"DayofWeek\"].isin([4,5,6])).mean()"
   ]
  },
  {
   "cell_type": "code",
   "execution_count": 215,
   "metadata": {},
   "outputs": [
    {
     "data": {
      "text/plain": [
       "(0.3, 0.3780487804878049)"
      ]
     },
     "execution_count": 215,
     "metadata": {},
     "output_type": "execute_result"
    }
   ],
   "source": [
    "season_schedule[season_schedule[\"VisitingTeam\"].isin([\"NYA\",\"SDN\",\"CHA\",\"TEX\",\"BOS\",\"LAN\"])][\"DayFlag\"].mean(), (season_schedule[\"DayFlag\"]).mean()"
   ]
  },
  {
   "cell_type": "code",
   "execution_count": 211,
   "metadata": {},
   "outputs": [
    {
     "data": {
      "text/plain": [
       "(DayofWeek\n",
       " 0    8\n",
       " 1    0\n",
       " 2    2\n",
       " 3    3\n",
       " 4    5\n",
       " 5    8\n",
       " 6    5\n",
       " Name: DayFlag, dtype: int32,\n",
       " DayofWeek\n",
       " 0    12\n",
       " 1     9\n",
       " 2    10\n",
       " 3    10\n",
       " 4    14\n",
       " 5    16\n",
       " 6    11\n",
       " Name: DayFlag, dtype: int64)"
      ]
     },
     "execution_count": 211,
     "metadata": {},
     "output_type": "execute_result"
    }
   ],
   "source": [
    "season_schedule.groupby(\"DayofWeek\")[\"DayFlag\"].sum(), season_schedule.groupby(\"DayofWeek\")[\"DayFlag\"].size()"
   ]
  },
  {
   "cell_type": "code",
   "execution_count": 213,
   "metadata": {},
   "outputs": [
    {
     "data": {
      "text/plain": [
       "0.23255813953488372"
      ]
     },
     "execution_count": 213,
     "metadata": {},
     "output_type": "execute_result"
    }
   ],
   "source": [
    "(10)/43"
   ]
  },
  {
   "cell_type": "code",
   "execution_count": 212,
   "metadata": {},
   "outputs": [
    {
     "data": {
      "text/plain": [
       "0.5384615384615384"
      ]
     },
     "execution_count": 212,
     "metadata": {},
     "output_type": "execute_result"
    }
   ],
   "source": [
    "(8+8+5)/(12+16+11)"
   ]
  },
  {
   "cell_type": "code",
   "execution_count": 207,
   "metadata": {},
   "outputs": [
    {
     "data": {
      "text/plain": [
       "6    20\n",
       "8    15\n",
       "7    13\n",
       "5    12\n",
       "4    11\n",
       "9    11\n",
       "Name: Month, dtype: int64"
      ]
     },
     "execution_count": 207,
     "metadata": {},
     "output_type": "execute_result"
    }
   ],
   "source": [
    "season_schedule[\"Month\"].value_counts()"
   ]
  },
  {
   "cell_type": "code",
   "execution_count": 209,
   "metadata": {},
   "outputs": [
    {
     "data": {
      "text/plain": [
       "0.4268292682926829"
      ]
     },
     "execution_count": 209,
     "metadata": {},
     "output_type": "execute_result"
    }
   ],
   "source": [
    "35/82"
   ]
  },
  {
   "cell_type": "code",
   "execution_count": null,
   "metadata": {},
   "outputs": [],
   "source": []
  }
 ],
 "metadata": {
  "kernelspec": {
   "display_name": "Python 3",
   "language": "python",
   "name": "python3"
  },
  "language_info": {
   "codemirror_mode": {
    "name": "ipython",
    "version": 3
   },
   "file_extension": ".py",
   "mimetype": "text/x-python",
   "name": "python",
   "nbconvert_exporter": "python",
   "pygments_lexer": "ipython3",
   "version": "3.10.5"
  },
  "orig_nbformat": 4
 },
 "nbformat": 4,
 "nbformat_minor": 2
}
