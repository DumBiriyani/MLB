{
 "cells": [
  {
   "cell_type": "code",
   "execution_count": 132,
   "metadata": {},
   "outputs": [],
   "source": [
    "import pandas as pd\n",
    "import numpy as np\n",
    "\n",
    "from sklearn.metrics import mean_absolute_error, mean_absolute_percentage_error, mean_squared_error"
   ]
  },
  {
   "cell_type": "code",
   "execution_count": 133,
   "metadata": {},
   "outputs": [],
   "source": [
    "x_dynamic = pd.read_csv(\"./processed_data/dynamic_feats.csv\")\n",
    "x_static = pd.read_csv(\"./processed_data/static_feats.csv\")"
   ]
  },
  {
   "cell_type": "code",
   "execution_count": 134,
   "metadata": {},
   "outputs": [],
   "source": [
    "other_league_cols = ['nba_season_flag',\n",
    "       'nhl_season_flag', 'nfl_season_flag']\n",
    "\n",
    "common_features = [\"year\",\n",
    "                    \"DayofWeek\",\n",
    "                    \"HomeTeamGameNumber\",\n",
    "                    \"VisitingTeamGameNumber\",\n",
    "                    \"park_age\",\n",
    "                    \"Month\",\n",
    "                    \"DayofMonth\",\n",
    "                    \"DayFlag\",\n",
    "                    \"NonRegular_ParkFlag\",\n",
    "                    \"StadiumCapacity\"]+\\\n",
    "                    [\"home_payroll\", \"home_top_salary\", \"visiting_payroll\", \"visiting_top_salary\"] +\\\n",
    "                    other_league_cols\n",
    "\n",
    "prev_season_features = [\"HomeAttendance_last_year\",\n",
    "                        \"VisitingAttendance_last_year\",\n",
    "                        \"Attendance_last_year\",\n",
    "                        \"Homewin_rate_last_year\",\n",
    "                        \"Homeday_league_rank_last_year\",\n",
    "                        \"HomeTeamOffense_Homeruns_last_year\",\n",
    "                        \"HomeTeamOffense_Strickouts_last_year\",\n",
    "                        \"HomeTeamPitchers_TeamEarnedRuns_last_year\",\n",
    "                        \"Visitingwin_rate_last_year\",\n",
    "                        \"Visitingday_league_rank_last_year\",\n",
    "                        \"VisitingTeamOffense_Homeruns_last_year\",\n",
    "                        \"VisitingTeamOffense_Strickouts_last_year\",\n",
    "                        \"VisitingTeamPitchers_TeamEarnedRuns_last_year\",\n",
    "                        \"HomeTeamScore_last_year\",\n",
    "                        \"VistingTeamScore_last_year\"]\n",
    "\n",
    "rolling_feats = ['HomeTeamOffense_Homeruns-1',\n",
    "                'HomeTeamOffense_Homeruns-2',\n",
    "                'HomeTeamOffense_Homeruns-3',\n",
    "                'HomeTeamOffense_Homeruns-4',\n",
    "                'HomeTeamOffense_Homeruns-5',\n",
    "                'HomeTeamOffense_Homeruns-6',\n",
    "                'HomeTeamOffense_Homeruns-7',\n",
    "                'HomeTeamOffense_Strickouts-1',\n",
    "                'HomeTeamOffense_Strickouts-2',\n",
    "                'HomeTeamOffense_Strickouts-3',\n",
    "                'HomeTeamOffense_Strickouts-4',\n",
    "                'HomeTeamOffense_Strickouts-5',\n",
    "                'HomeTeamOffense_Strickouts-6',\n",
    "                'HomeTeamOffense_Strickouts-7',\n",
    "                'HomeTeamPitchers_TeamEarnedRuns-1',\n",
    "                'HomeTeamPitchers_TeamEarnedRuns-2',\n",
    "                'HomeTeamPitchers_TeamEarnedRuns-3',\n",
    "                'HomeTeamPitchers_TeamEarnedRuns-4',\n",
    "                'HomeTeamPitchers_TeamEarnedRuns-5',\n",
    "                'HomeTeamPitchers_TeamEarnedRuns-6',\n",
    "                'HomeTeamPitchers_TeamEarnedRuns-7']\n",
    "\n",
    "prev_match_features = [prefix+base_col for prefix in [\"Home\",\"Visiting\"] \n",
    "                       for base_col in [\"total_wins\",\n",
    "                                        \"day_league_rank\"]]\n",
    "\n",
    "TARGET_COL = \"Attendance\""
   ]
  },
  {
   "cell_type": "code",
   "execution_count": 135,
   "metadata": {},
   "outputs": [],
   "source": [
    "x_static[\"league_rival_col\"] = (x_static[\"VisitingTeamLeague\"]==x_static[\"HomeTeamLeague\"]).astype(int)\n",
    "x_dynamic[\"league_rival_col\"] = (x_static[\"VisitingTeamLeague\"]==x_static[\"HomeTeamLeague\"]).astype(int)\n",
    "common_features.append(\"league_rival_col\")"
   ]
  },
  {
   "cell_type": "code",
   "execution_count": 136,
   "metadata": {},
   "outputs": [],
   "source": [
    "# x_static[\"weekend\"] = x_static[\"DayofWeek\"].isin([4,5]).astype(int)\n",
    "# x_dynamic[\"weekend\"] = x_static[\"DayofWeek\"].isin([4,5]).astype(int)\n",
    "# common_features.append(\"weekend\")\n",
    "# common_features.remove(\"DayofWeek\")"
   ]
  },
  {
   "cell_type": "code",
   "execution_count": 137,
   "metadata": {},
   "outputs": [],
   "source": [
    "def covid_impact(year):\n",
    "    covid_effect = 0\n",
    "    if year >= 2021:\n",
    "        covid_effect = 1/(year - 2020)\n",
    "    return covid_effect\n",
    "\n",
    "x_dynamic[\"covid_effect\"] = x_dynamic[\"year\"].map(covid_impact)\n",
    "x_static[\"covid_effect\"] = x_dynamic[\"covid_effect\"]\n",
    "common_features.append(\"covid_effect\")"
   ]
  },
  {
   "attachments": {},
   "cell_type": "markdown",
   "metadata": {},
   "source": [
    "## Model Training"
   ]
  },
  {
   "attachments": {},
   "cell_type": "markdown",
   "metadata": {},
   "source": [
    "### Dynamic Model"
   ]
  },
  {
   "cell_type": "code",
   "execution_count": 138,
   "metadata": {},
   "outputs": [],
   "source": [
    "train_idx = x_dynamic[\"year\"]!=2022\n",
    "val_idx = x_dynamic[\"year\"]==2022\n",
    "\n",
    "y_train = x_dynamic.loc[train_idx, TARGET_COL]\n",
    "y_val = x_dynamic.loc[val_idx, TARGET_COL]"
   ]
  },
  {
   "cell_type": "code",
   "execution_count": 139,
   "metadata": {},
   "outputs": [],
   "source": [
    "match_cols = [\"year\",\"HomeTeam\",\"HomeTeamGameNumber\"]\n",
    "x_dynamic = pd.merge(x_dynamic,\n",
    "        x_static[prev_season_features+match_cols],\n",
    "        on=match_cols)"
   ]
  },
  {
   "cell_type": "code",
   "execution_count": 140,
   "metadata": {},
   "outputs": [],
   "source": [
    "categorical_feat_cols = [\"VisitingTeam\",\n",
    "                        \"VisitingTeamLeague\",\n",
    "                        \"HomeTeam\",\n",
    "                        \"HomeTeamLeague\",\n",
    "                        \"BallParkID\"]\n",
    "\n",
    "feat_list = categorical_feat_cols+common_features+list(rolling_feats)+prev_match_features+prev_season_features\n",
    "\n",
    "x_dynamic_train = x_dynamic.loc[train_idx, feat_list]\n",
    "x_dynamic_val = x_dynamic.loc[val_idx, feat_list]\n",
    "\n",
    "# model = lgb.LGBMRegressor()\n",
    "# model.fit(x_dynamic_train, y_train)"
   ]
  },
  {
   "cell_type": "code",
   "execution_count": 141,
   "metadata": {},
   "outputs": [],
   "source": [
    "import lightgbm as lgb\n",
    "# from basic_ml.embedding import DFEmbedder\n",
    "\n",
    "# x_dynamic_train, x_dynamic_val = DFEmbedder.gen_multi_col_embeddings(train=x_dynamic_train,\n",
    "#                         encode_cols=categorical_feat_cols,\n",
    "#                         test=x_dynamic_val,\n",
    "#                         max_output_size=10,\n",
    "#                         fraction_threshold=0.5)\n",
    "\n",
    "# x_dynamic_train.drop(columns=categorical_feat_cols, inplace=True)\n",
    "# x_dynamic_val.drop(columns=categorical_feat_cols, inplace=True)"
   ]
  },
  {
   "cell_type": "code",
   "execution_count": 142,
   "metadata": {},
   "outputs": [],
   "source": [
    "# from basic_ml import ModelEvaluator, ModelExecutor\n",
    "\n",
    "# # The search space for the algorithm\n",
    "# # we run multiple trials to find the best value to use for each hyperparameter\n",
    "# lgb_param = {'num_leaves': (5, 500, 5),\n",
    "#             'max_depth': (2, 100, 2),\n",
    "#             'learning_rate': (0.001, 0.2, 0.001),\n",
    "#             'n_estimators': (20, 500, 20),\n",
    "#             'min_child_samples': (5, 100, 5), \n",
    "#             'reg_lambda': (0.1, 1, 0.1),\n",
    "#             'reg_alpha': (0.1, 1, 0.1),\n",
    "#             \"random_state\": 42,\n",
    "#             'metric': \"mae\"}\n",
    "\n",
    "# # Tuning and finding the best configured model\n",
    "# lgb_tuner = ModelExecutor(lgb.LGBMRegressor,\n",
    "#                           x_dynamic_train,\n",
    "#                           y_train,\n",
    "#                           x_val=x_dynamic_val,\n",
    "#                           y_val=y_val,\n",
    "#                           internal_val=True,\n",
    "#                           task=\"regression\",\n",
    "#                           cv=False,\n",
    "#                           normalize=False,\n",
    "#                           param_grid=lgb_param)\n",
    "\n",
    "# lgb_tuner.execute(max_evals=50)\n",
    "\n",
    "# y_pred = lgb_tuner.model.predict(x_dynamic_val)\n",
    "# mean_absolute_error(y_val, y_pred), mean_absolute_percentage_error(y_val, y_pred), mean_squared_error(y_val, y_pred)"
   ]
  },
  {
   "cell_type": "code",
   "execution_count": 143,
   "metadata": {},
   "outputs": [
    {
     "data": {
      "text/plain": [
       "(3080.0857881095067, 0.13877345869673408, 16722280.384388657)"
      ]
     },
     "execution_count": 143,
     "metadata": {},
     "output_type": "execute_result"
    }
   ],
   "source": [
    "model = lgb.LGBMRegressor()\n",
    "model.fit(x_dynamic_train.drop(columns=categorical_feat_cols), y_train)\n",
    "\n",
    "y_pred = model.predict(x_dynamic_val.drop(columns=categorical_feat_cols))\n",
    "mean_absolute_error(y_val, y_pred), mean_absolute_percentage_error(y_val, y_pred), mean_squared_error(y_val, y_pred)"
   ]
  },
  {
   "cell_type": "code",
   "execution_count": 148,
   "metadata": {},
   "outputs": [],
   "source": [
    "def calculate_error(y_test, y_pred, x_test, w1=0.05):\n",
    "    april_mask = x_test[\"Month\"]==4\n",
    "    mn_twins_mask = x_test[\"HomeTeam\"]==\"MIN\"\n",
    "    april_error = w1*(np.abs(y_test[(april_mask) & (mn_twins_mask)]-y_pred[(april_mask) & (mn_twins_mask)]).sum())\\\n",
    "                    +(1-w1)*(np.abs(y_test[(april_mask) & ~(mn_twins_mask)]-y_pred[(april_mask) & ~(mn_twins_mask)])).sum()\n",
    "    season_error = w1*(np.abs(y_test[mn_twins_mask]-y_pred[mn_twins_mask]).sum())\\\n",
    "                        +(1-w1)*(np.abs(y_test[~mn_twins_mask]-y_pred[~mn_twins_mask]).sum())\n",
    "    return april_error, season_error    "
   ]
  },
  {
   "cell_type": "code",
   "execution_count": 149,
   "metadata": {},
   "outputs": [
    {
     "data": {
      "text/plain": [
       "(1094803.189224404, 6936132.425170523)"
      ]
     },
     "execution_count": 149,
     "metadata": {},
     "output_type": "execute_result"
    }
   ],
   "source": [
    "calculate_error(y_val, y_pred, x_dynamic_val)"
   ]
  },
  {
   "cell_type": "code",
   "execution_count": 116,
   "metadata": {},
   "outputs": [
    {
     "data": {
      "image/png": "[encoded data removed]",
      "text/plain": [
       "<Figure size 432x432 with 1 Axes>"
      ]
     },
     "metadata": {
      "needs_background": "light"
     },
     "output_type": "display_data"
    }
   ],
   "source": [
    "import matplotlib.pyplot as plt\n",
    "def plot_feat_importance(model, top_n=20):\n",
    "    plt.figure(figsize=(6,6))\n",
    "    pd.Series(dict(\n",
    "        zip(model.feature_name_,\n",
    "        model.feature_importances_))\n",
    "        ).sort_values(ascending=False)[:top_n].plot.barh()\n",
    "    \n",
    "plot_feat_importance(model)"
   ]
  },
  {
   "cell_type": "code",
   "execution_count": 52,
   "metadata": {},
   "outputs": [
    {
     "data": {
      "text/plain": [
       "(6790.477495073443, 0.4001449791914596, 67745080.98026977)"
      ]
     },
     "execution_count": 52,
     "metadata": {},
     "output_type": "execute_result"
    }
   ],
   "source": [
    "# BASELINE MODEL 2 -> MEAN\n",
    "x_dynamic[\"GamesPlayedAtHome\"] = x_dynamic.groupby(\n",
    "    [\"HomeTeam\",\"year\"])[\"Attendance\"].cumcount()+1\n",
    "y_pred = x_dynamic[\n",
    "    x_dynamic[\"GamesPlayedAtHome\"]<=81\n",
    "    ].groupby([\"HomeTeam\",\"GamesPlayedAtHome\"])[\"Attendance\"].mean().values\n",
    "mean_absolute_error(y_val, y_pred), mean_absolute_percentage_error(y_val, y_pred), mean_squared_error(y_val, y_pred)"
   ]
  },
  {
   "cell_type": "code",
   "execution_count": 65,
   "metadata": {},
   "outputs": [
    {
     "data": {
      "text/plain": [
       "(14379.790428657569, 0.640593048743479, 306704071.0503633)"
      ]
     },
     "execution_count": 65,
     "metadata": {},
     "output_type": "execute_result"
    }
   ],
   "source": [
    "# BASELINE MODEL 1 -> LOCF\n",
    "y_pred_baseline = ([45000]+x_static.loc[x_static[\"year\"]==2021,\"Attendance\"].tolist())#*x_dynamic.loc[val_idx, \"StadiumCapacity\"]\n",
    "mean_absolute_error(y_val, y_pred_baseline), mean_absolute_percentage_error(y_val, y_pred_baseline), mean_squared_error(y_val, y_pred_baseline)"
   ]
  },
  {
   "attachments": {},
   "cell_type": "markdown",
   "metadata": {},
   "source": [
    "### Static Model"
   ]
  },
  {
   "cell_type": "code",
   "execution_count": 54,
   "metadata": {},
   "outputs": [
    {
     "data": {
      "text/html": [
       "<style>#sk-container-id-1 {color: black;background-color: white;}#sk-container-id-1 pre{padding: 0;}#sk-container-id-1 div.sk-toggleable {background-color: white;}#sk-container-id-1 label.sk-toggleable__label {cursor: pointer;display: block;width: 100%;margin-bottom: 0;padding: 0.3em;box-sizing: border-box;text-align: center;}#sk-container-id-1 label.sk-toggleable__label-arrow:before {content: \"▸\";float: left;margin-right: 0.25em;color: #696969;}#sk-container-id-1 label.sk-toggleable__label-arrow:hover:before {color: black;}#sk-container-id-1 div.sk-estimator:hover label.sk-toggleable__label-arrow:before {color: black;}#sk-container-id-1 div.sk-toggleable__content {max-height: 0;max-width: 0;overflow: hidden;text-align: left;background-color: #f0f8ff;}#sk-container-id-1 div.sk-toggleable__content pre {margin: 0.2em;color: black;border-radius: 0.25em;background-color: #f0f8ff;}#sk-container-id-1 input.sk-toggleable__control:checked~div.sk-toggleable__content {max-height: 200px;max-width: 100%;overflow: auto;}#sk-container-id-1 input.sk-toggleable__control:checked~label.sk-toggleable__label-arrow:before {content: \"▾\";}#sk-container-id-1 div.sk-estimator input.sk-toggleable__control:checked~label.sk-toggleable__label {background-color: #d4ebff;}#sk-container-id-1 div.sk-label input.sk-toggleable__control:checked~label.sk-toggleable__label {background-color: #d4ebff;}#sk-container-id-1 input.sk-hidden--visually {border: 0;clip: rect(1px 1px 1px 1px);clip: rect(1px, 1px, 1px, 1px);height: 1px;margin: -1px;overflow: hidden;padding: 0;position: absolute;width: 1px;}#sk-container-id-1 div.sk-estimator {font-family: monospace;background-color: #f0f8ff;border: 1px dotted black;border-radius: 0.25em;box-sizing: border-box;margin-bottom: 0.5em;}#sk-container-id-1 div.sk-estimator:hover {background-color: #d4ebff;}#sk-container-id-1 div.sk-parallel-item::after {content: \"\";width: 100%;border-bottom: 1px solid gray;flex-grow: 1;}#sk-container-id-1 div.sk-label:hover label.sk-toggleable__label {background-color: #d4ebff;}#sk-container-id-1 div.sk-serial::before {content: \"\";position: absolute;border-left: 1px solid gray;box-sizing: border-box;top: 0;bottom: 0;left: 50%;z-index: 0;}#sk-container-id-1 div.sk-serial {display: flex;flex-direction: column;align-items: center;background-color: white;padding-right: 0.2em;padding-left: 0.2em;position: relative;}#sk-container-id-1 div.sk-item {position: relative;z-index: 1;}#sk-container-id-1 div.sk-parallel {display: flex;align-items: stretch;justify-content: center;background-color: white;position: relative;}#sk-container-id-1 div.sk-item::before, #sk-container-id-1 div.sk-parallel-item::before {content: \"\";position: absolute;border-left: 1px solid gray;box-sizing: border-box;top: 0;bottom: 0;left: 50%;z-index: -1;}#sk-container-id-1 div.sk-parallel-item {display: flex;flex-direction: column;z-index: 1;position: relative;background-color: white;}#sk-container-id-1 div.sk-parallel-item:first-child::after {align-self: flex-end;width: 50%;}#sk-container-id-1 div.sk-parallel-item:last-child::after {align-self: flex-start;width: 50%;}#sk-container-id-1 div.sk-parallel-item:only-child::after {width: 0;}#sk-container-id-1 div.sk-dashed-wrapped {border: 1px dashed gray;margin: 0 0.4em 0.5em 0.4em;box-sizing: border-box;padding-bottom: 0.4em;background-color: white;}#sk-container-id-1 div.sk-label label {font-family: monospace;font-weight: bold;display: inline-block;line-height: 1.2em;}#sk-container-id-1 div.sk-label-container {text-align: center;}#sk-container-id-1 div.sk-container {/* jupyter's `normalize.less` sets `[hidden] { display: none; }` but bootstrap.min.css set `[hidden] { display: none !important; }` so we also need the `!important` here to be able to override the default hidden behavior on the sphinx rendered scikit-learn.org. See: https://github.com/scikit-learn/scikit-learn/issues/21755 */display: inline-block !important;position: relative;}#sk-container-id-1 div.sk-text-repr-fallback {display: none;}</style><div id=\"sk-container-id-1\" class=\"sk-top-container\"><div class=\"sk-text-repr-fallback\"><pre>LGBMRegressor()</pre><b>In a Jupyter environment, please rerun this cell to show the HTML representation or trust the notebook. <br />On GitHub, the HTML representation is unable to render, please try loading this page with nbviewer.org.</b></div><div class=\"sk-container\" hidden><div class=\"sk-item\"><div class=\"sk-estimator sk-toggleable\"><input class=\"sk-toggleable__control sk-hidden--visually\" id=\"sk-estimator-id-1\" type=\"checkbox\" checked><label for=\"sk-estimator-id-1\" class=\"sk-toggleable__label sk-toggleable__label-arrow\">LGBMRegressor</label><div class=\"sk-toggleable__content\"><pre>LGBMRegressor()</pre></div></div></div></div></div>"
      ],
      "text/plain": [
       "LGBMRegressor()"
      ]
     },
     "execution_count": 54,
     "metadata": {},
     "output_type": "execute_result"
    }
   ],
   "source": [
    "x_static_train = x_static.loc[train_idx, common_features+prev_season_features]\n",
    "\n",
    "x_static_val = x_static.loc[val_idx, common_features+prev_season_features]\n",
    "\n",
    "model = lgb.LGBMRegressor()\n",
    "model.fit(x_static_train, y_train)"
   ]
  },
  {
   "cell_type": "code",
   "execution_count": 55,
   "metadata": {},
   "outputs": [
    {
     "data": {
      "text/plain": [
       "(9570.122895853143, 0.36309923107638886, 146139163.14398566)"
      ]
     },
     "execution_count": 55,
     "metadata": {},
     "output_type": "execute_result"
    }
   ],
   "source": [
    "y_pred = model.predict(x_static_val)#*x_static.loc[val_idx, \"StadiumCapacity\"]\n",
    "mean_absolute_error(y_val, y_pred), mean_absolute_percentage_error(y_val, y_pred), mean_squared_error(y_val, y_pred)"
   ]
  },
  {
   "cell_type": "code",
   "execution_count": null,
   "metadata": {},
   "outputs": [],
   "source": []
  }
 ],
 "metadata": {
  "kernelspec": {
   "display_name": "Python 3",
   "language": "python",
   "name": "python3"
  },
  "language_info": {
   "codemirror_mode": {
    "name": "ipython",
    "version": 3
   },
   "file_extension": ".py",
   "mimetype": "text/x-python",
   "name": "python",
   "nbconvert_exporter": "python",
   "pygments_lexer": "ipython3",
   "version": "3.10.5"
  },
  "orig_nbformat": 4
 },
 "nbformat": 4,
 "nbformat_minor": 2
}
